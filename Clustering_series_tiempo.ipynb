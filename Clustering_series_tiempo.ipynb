{
  "nbformat": 4,
  "nbformat_minor": 0,
  "metadata": {
    "colab": {
      "provenance": [],
      "mount_file_id": "1jYc1EGkoWqhM6LhiZCHG39r2L7TKq2Ma",
      "authorship_tag": "ABX9TyM2FnGFKdjKKY6ubmq7ya7w",
      "include_colab_link": true
    },
    "kernelspec": {
      "name": "python3",
      "display_name": "Python 3"
    },
    "language_info": {
      "name": "python"
    }
  },
  "cells": [
    {
      "cell_type": "markdown",
      "metadata": {
        "id": "view-in-github",
        "colab_type": "text"
      },
      "source": [
        "<a href=\"https://colab.research.google.com/github/PedroAdair/PronosticoVentas/blob/main/Clustering_series_tiempo.ipynb\" target=\"_parent\"><img src=\"https://colab.research.google.com/assets/colab-badge.svg\" alt=\"Open In Colab\"/></a>"
      ]
    },
    {
      "cell_type": "markdown",
      "source": [
        "#Pronostico de ventas optimizado para productos perecederos\n",
        "## Andrea Garcia, Daniel Gomez, Adair Gallegos\n",
        "### Centro de Investigación en Matemáticas AC  Unidad Monterrey"
      ],
      "metadata": {
        "id": "Mq7umA8aoRsq"
      }
    },
    {
      "cell_type": "code",
      "source": [
        "#@title \"calmap\" permite generar mapas similares a los de github\n",
        "!pip install calmap"
      ],
      "metadata": {
        "cellView": "form",
        "id": "kBfWCcZ-lDzv"
      },
      "execution_count": null,
      "outputs": []
    },
    {
      "cell_type": "code",
      "source": [
        "import pandas as pd\n",
        "import seaborn as sns\n",
        "import matplotlib.pyplot as plt\n",
        "import calendar\n",
        "from datetime import datetime, timedelta\n",
        "import calmap"
      ],
      "metadata": {
        "id": "2ntw9uqylHl4"
      },
      "execution_count": 2,
      "outputs": []
    },
    {
      "cell_type": "code",
      "source": [
        "data = \"/content/drive/MyDrive/Consultoria/data_ventas.xlsx\""
      ],
      "metadata": {
        "id": "2C9c_zsKlKkB"
      },
      "execution_count": 3,
      "outputs": []
    },
    {
      "cell_type": "code",
      "source": [
        "def ventas_calendario(nombre_archivo):\n",
        "    # leer el archivo de excel en un DataFrame de pandas\n",
        "    df = pd.read_excel(nombre_archivo)\n",
        "    \n",
        "    # convertir la columna FECHA en un objeto datetime\n",
        "    df['FECHA'] = pd.to_datetime(df['FECHA'])\n",
        "    \n",
        "    # agrupar por FECHA y sumar las unidades vendidas\n",
        "    resumen = df.groupby('FECHA')['UNI'].sum().reset_index()\n",
        "    \n",
        "    # filtrar meses sin ventas\n",
        "    resumen = resumen.loc[resumen['UNI'] != 0]\n",
        "    \n",
        "    # crear el objeto calmap\n",
        "    calmap.calendarplot(resumen.set_index('FECHA')['UNI'], \n",
        "                        monthticks=3, daylabels='LMMJVSD',\n",
        "                        cmap='YlGnBu', fillcolor='grey', linewidth=0.05,\n",
        "                        fig_kws=dict(figsize=(20,10)))\n",
        "    plt.title('Ventas por día y mes')\n",
        "    plt.show()"
      ],
      "metadata": {
        "id": "Ri-nKhfylv9t"
      },
      "execution_count": 5,
      "outputs": []
    },
    {
      "cell_type": "code",
      "source": [
        "ventas_calendario(data)"
      ],
      "metadata": {
        "colab": {
          "base_uri": "https://localhost:8080/",
          "height": 252
        },
        "id": "R1Xxd_49mGS3",
        "outputId": "b7eaa731-e11e-4aa2-f2c7-dc1d4b4ba9fb"
      },
      "execution_count": 6,
      "outputs": [
        {
          "output_type": "stream",
          "name": "stderr",
          "text": [
            "WARNING:matplotlib.font_manager:findfont: Font family 'Arial' not found.\n",
            "WARNING:matplotlib.font_manager:findfont: Font family 'Arial' not found.\n",
            "WARNING:matplotlib.font_manager:findfont: Font family 'Arial' not found.\n",
            "WARNING:matplotlib.font_manager:findfont: Font family 'Arial' not found.\n",
            "WARNING:matplotlib.font_manager:findfont: Font family 'Arial' not found.\n"
          ]
        },
        {
          "output_type": "display_data",
          "data": {
            "text/plain": [
              "<Figure size 1440x720 with 1 Axes>"
            ],
            "image/png": "[encoded data removed]"
          },
          "metadata": {
            "needs_background": "light"
          }
        }
      ]
    },
    {
      "cell_type": "markdown",
      "source": [
        "en un primer analisis de resultados, el día de la semana que mayores ventas se registran"
      ],
      "metadata": {
        "id": "RZlquO2mp0Jc"
      }
    },
    {
      "cell_type": "markdown",
      "source": [
        "Ahora, trataremos de hacer algunos analisis preeliminares "
      ],
      "metadata": {
        "id": "_bPHex7zm5yt"
      }
    },
    {
      "cell_type": "code",
      "source": [
        "df_ventas = pd.read_excel(\"/content/drive/MyDrive/Consultoria/data_ventas.xlsx\")\n",
        "df_catalogo = pd.read_excel(\"/content/drive/MyDrive/Consultoria/Catalogo.xlsx\")"
      ],
      "metadata": {
        "id": "qRS8xzy9nEhV"
      },
      "execution_count": 7,
      "outputs": []
    },
    {
      "cell_type": "markdown",
      "source": [
        "\"Unimos\" las dos bases de datos en base al Arriculo = SKU "
      ],
      "metadata": {
        "id": "Mv4n0aHinZ51"
      }
    },
    {
      "cell_type": "code",
      "source": [
        "df = pd.merge(df_ventas, df_catalogo[[\"Articulo\", \"Precio\", \"Costo\"]], left_on=\"SKU\", right_on=\"Articulo\", how=\"left\")"
      ],
      "metadata": {
        "id": "OD-DlOKrnYri"
      },
      "execution_count": 9,
      "outputs": []
    },
    {
      "cell_type": "markdown",
      "source": [
        "Creamos las columnas de \"Ventas\" y \"Ganancias\""
      ],
      "metadata": {
        "id": "JFRNK4Hgnkv5"
      }
    },
    {
      "cell_type": "code",
      "source": [
        "df[\"Ventas\"] = df[\"UNI\"] * df[\"Precio\"]\n",
        "df[\"Ganancia\"] = df[\"UNI\"] * (df[\"Precio\"] - df[\"Costo\"])"
      ],
      "metadata": {
        "id": "MC5LkFHlnmZw"
      },
      "execution_count": 10,
      "outputs": []
    },
    {
      "cell_type": "markdown",
      "source": [
        "Ahora generamos un nuevo df que contiene las ventas registradas por cada tienda de forma diaria. Los NA se sustituyen por 0\n",
        "* ¿por que hay NA? \n",
        "* ¿Acaso corresponde a tiendas que se abrieron despues de la fecha de estudio de caso?\n",
        "* ¿es posible hacer una clasificiación de series de tiempo?"
      ],
      "metadata": {
        "id": "0uR40m09nvIk"
      }
    },
    {
      "cell_type": "code",
      "source": [
        "ventas_tiendas = pd.pivot_table(df, values='Ventas', index=['LOC'], columns=[ 'FECHA'], aggfunc=sum)\n",
        "ventas_tiendas = ventas_tiendas.fillna(0)\n",
        "ventas_tiendas"
      ],
      "metadata": {
        "id": "UU4OnR8hnuNs"
      },
      "execution_count": null,
      "outputs": []
    }
  ]
}